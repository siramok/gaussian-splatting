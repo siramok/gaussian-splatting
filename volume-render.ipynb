{
 "cells": [
  {
   "cell_type": "code",
   "execution_count": 9,
   "metadata": {
    "metadata": {}
   },
   "outputs": [],
   "source": [
    "# Imports\n",
    "import math\n",
    "import random\n",
    "\n",
    "from argparse import ArgumentParser\n",
    "\n",
    "import matplotlib.pyplot as plt\n",
    "import numpy as np\n",
    "import PIL\n",
    "import pyvista as pv\n",
    "import torch\n",
    "\n",
    "from mpl_toolkits.mplot3d import Axes3D\n",
    "from plyfile import PlyData, PlyElement\n",
    "from vtk import vtkMatrix4x4, vtkMatrix3x3\n",
    "\n",
    "from arguments import ModelParams, PipelineParams, OptimizationParams\n",
    "from gaussian_renderer import render\n",
    "from scene import GaussianModel\n",
    "from scene.cameras import Camera\n",
    "from scene.dataset_readers import fetchPly\n",
    "from utils.general_utils import PILtoTorch"
   ]
  },
  {
   "cell_type": "code",
   "execution_count": 10,
   "metadata": {
    "metadata": {}
   },
   "outputs": [],
   "source": [
    "# Setup some basic args without actually passing input\n",
    "parser = ArgumentParser(description=\"Training script parameters\")\n",
    "lp = ModelParams(parser)\n",
    "op = OptimizationParams(parser)\n",
    "pp = PipelineParams(parser)\n",
    "parser.add_argument(\"--ip\", type=str, default=\"127.0.0.1\")\n",
    "parser.add_argument(\"--port\", type=int, default=6009)\n",
    "parser.add_argument(\"--debug_from\", type=int, default=-1)\n",
    "parser.add_argument(\"--detect_anomaly\", action=\"store_true\", default=False)\n",
    "parser.add_argument(\"--test_iterations\", nargs=\"+\", type=int, default=[7_000, 30_000])\n",
    "parser.add_argument(\"--save_iterations\", nargs=\"+\", type=int, default=[7_000, 30_000])\n",
    "parser.add_argument(\"--quiet\", action=\"store_true\")\n",
    "parser.add_argument(\"--checkpoint_iterations\", nargs=\"+\", type=int, default=[])\n",
    "parser.add_argument(\"--start_checkpoint\", type=str, default=None)\n",
    "args = parser.parse_args(\"\")\n",
    "args.save_iterations.append(args.iterations)\n",
    "\n",
    "dataset = lp.extract(args)\n",
    "training_args = op.extract(args)\n",
    "pipe = pp.extract(args)\n",
    "pipe.debug = True"
   ]
  },
  {
   "cell_type": "code",
   "execution_count": 11,
   "metadata": {
    "metadata": {}
   },
   "outputs": [
    {
     "name": "stdout",
     "output_type": "stream",
     "text": [
      "Number of points at initialisation :  1176\n"
     ]
    }
   ],
   "source": [
    "# Load a .ply dataset as a Gaussian model\n",
    "sh_degree = 3\n",
    "gaussians = GaussianModel(sh_degree)\n",
    "\n",
    "ply_path = \"data/fuel.ply\"\n",
    "pcd = fetchPly(ply_path)\n",
    "\n",
    "spatial_lr_scale = 4.982904243469239\n",
    "gaussians.create_from_pcd(pcd, spatial_lr_scale)\n",
    "\n",
    "gaussians.training_setup(training_args)"
   ]
  },
  {
   "cell_type": "code",
   "execution_count": 12,
   "metadata": {},
   "outputs": [],
   "source": [
    "def qvec2rotmat(qvec):\n",
    "    return np.array(\n",
    "        [\n",
    "            [\n",
    "                1 - 2 * qvec[2] ** 2 - 2 * qvec[3] ** 2,\n",
    "                2 * qvec[1] * qvec[2] - 2 * qvec[0] * qvec[3],\n",
    "                2 * qvec[3] * qvec[1] + 2 * qvec[0] * qvec[2],\n",
    "            ],\n",
    "            [\n",
    "                2 * qvec[1] * qvec[2] + 2 * qvec[0] * qvec[3],\n",
    "                1 - 2 * qvec[1] ** 2 - 2 * qvec[3] ** 2,\n",
    "                2 * qvec[2] * qvec[3] - 2 * qvec[0] * qvec[1],\n",
    "            ],\n",
    "            [\n",
    "                2 * qvec[3] * qvec[1] - 2 * qvec[0] * qvec[2],\n",
    "                2 * qvec[2] * qvec[3] + 2 * qvec[0] * qvec[1],\n",
    "                1 - 2 * qvec[1] ** 2 - 2 * qvec[2] ** 2,\n",
    "            ],\n",
    "        ]\n",
    "    )\n",
    "\n",
    "\n",
    "def fov2focal(fov, pixels):\n",
    "    return pixels / (2 * math.tan(fov / 2))\n",
    "\n",
    "\n",
    "def focal2fov(focal, pixels):\n",
    "    return 2 * math.atan(pixels / (2 * focal))"
   ]
  },
  {
   "cell_type": "code",
   "execution_count": 13,
   "metadata": {
    "metadata": {}
   },
   "outputs": [],
   "source": [
    "# Instantiate the plotter once\n",
    "def init_pv_plotter(path, width, height):\n",
    "    mesh = pv.read(path)\n",
    "    plotter = pv.Plotter(off_screen=True)\n",
    "    plotter.add_mesh(mesh, show_scalar_bar=False, cmap=plt.cm.coolwarm_r)\n",
    "    plotter.window_size = [width, height]\n",
    "    plotter.camera.up = (0, -1, 0)\n",
    "    return plotter\n",
    "\n",
    "\n",
    "# Just used for getting the VTK matrices into a ndarray\n",
    "def arrayFromVTKMatrix(vmatrix):\n",
    "    if isinstance(vmatrix, vtkMatrix4x4):\n",
    "        matrixSize = 4\n",
    "    elif isinstance(vmatrix, vtkMatrix3x3):\n",
    "        matrixSize = 3\n",
    "    else:\n",
    "        raise RuntimeError(\"Input must be vtk.vtkMatrix3x3 or vtk.vtkMatrix4x4\")\n",
    "    narray = np.eye(matrixSize)\n",
    "    vmatrix.DeepCopy(narray.ravel(), vmatrix)\n",
    "    return np.round(narray, 4).astype(np.float32)\n",
    "\n",
    "\n",
    "# Generates a new Camera() object\n",
    "def get_new_vtk_camera(plotter, seed):\n",
    "    np.random.seed(seed)\n",
    "\n",
    "    camera = plotter.camera\n",
    "\n",
    "    # Set a new random camera position along a sphere centered on the model\n",
    "    current_position = np.array(camera.position)\n",
    "    focal_point = np.array(camera.focal_point)\n",
    "\n",
    "    radius = np.linalg.norm(current_position - focal_point)\n",
    "    theta = np.random.uniform(0, np.pi)\n",
    "    phi = np.random.uniform(0, 2 * np.pi)\n",
    "\n",
    "    x = focal_point[0] + radius * np.sin(theta) * np.cos(phi)\n",
    "    y = focal_point[1] + radius * np.sin(theta) * np.sin(phi)\n",
    "    z = focal_point[2] + radius * np.cos(theta)\n",
    "    camera.position = (x, y, z)\n",
    "\n",
    "    # Render the model, convert it to a PIL Image\n",
    "    image_array = PIL.Image.fromarray(plotter.screenshot(return_img=True))\n",
    "\n",
    "    resized_image_rgb = PILtoTorch(image_array, image_array.size, \"cuda\")\n",
    "    gt_image = resized_image_rgb[:3, ...]\n",
    "\n",
    "    loaded_mask = None\n",
    "    if resized_image_rgb.shape[1] == 4:\n",
    "        loaded_mask = resized_image_rgb[3:4, ...]\n",
    "\n",
    "    mvt_matrix = arrayFromVTKMatrix(camera.GetModelViewTransformMatrix())\n",
    "    mvt_matrix = np.linalg.inv(mvt_matrix)\n",
    "\n",
    "    rotation = mvt_matrix[:3, :3].T\n",
    "    translation = mvt_matrix[:3, 3]\n",
    "\n",
    "    width, height = plotter.window_size\n",
    "    FovX = np.radians(camera.view_angle)\n",
    "    FovY = focal2fov(fov2focal(FovX, width), height)\n",
    "\n",
    "    cx = 0\n",
    "    cy = 0\n",
    "\n",
    "    plotter.close()\n",
    "\n",
    "    # Instantiate a new Camera object using these computed values\n",
    "    new_camera = Camera(\n",
    "        colmap_id=1,\n",
    "        R=rotation,\n",
    "        T=translation,\n",
    "        FoVx=FovX,\n",
    "        FoVy=FovY,\n",
    "        cx=cx,\n",
    "        cy=cy,\n",
    "        image=gt_image,\n",
    "        gt_alpha_mask=loaded_mask,\n",
    "        image_name=\"\",\n",
    "        uid=0,\n",
    "        data_device=\"cuda\",\n",
    "    )\n",
    "\n",
    "    # Debug prints\n",
    "\n",
    "    # print(\"new_camera\")\n",
    "    # print(f\"azimuth={azimuth}\")\n",
    "    # print(f\"elevation={elevation}\")\n",
    "    # print(f\"roll={roll}\")\n",
    "    # print(f\"view_angle={camera.view_angle}\")\n",
    "    # print(f\"uid={new_camera.uid}\")\n",
    "    # print(f\"colmap_id={new_camera.colmap_id}\")\n",
    "    # print(f\"R={new_camera.R}\")\n",
    "    # print(f\"T={new_camera.T}\")\n",
    "    # print(f\"FoVx={new_camera.FoVx}\")\n",
    "    # print(f\"FoVy={new_camera.FoVy}\")\n",
    "    # print(f\"cx={new_camera.cx}\")\n",
    "    # print(f\"cy={new_camera.cy}\")\n",
    "    # print(f\"image_name={new_camera.image_name}\")\n",
    "    # print(f\"data_device={new_camera.data_device}\")\n",
    "    # print(f\"image_width={new_camera.image_width}\")\n",
    "    # print(f\"image_height={new_camera.image_height}\")\n",
    "    # print(f\"zfar={new_camera.zfar}\")\n",
    "    # print(f\"znear={new_camera.znear}\")\n",
    "    # print(f\"trans={new_camera.trans}\")\n",
    "    # print(f\"scale={new_camera.scale}\")\n",
    "    # print(f\"world_view_transform={new_camera.world_view_transform}\")\n",
    "    # print(f\"projection_matrix={new_camera.projection_matrix}\")\n",
    "    # print(f\"full_proj_transform={new_camera.full_proj_transform}\")\n",
    "    # print(f\"camera_center={new_camera.camera_center}\")\n",
    "    print(f\"focal_point={camera.focal_point}\")\n",
    "    # print(f\"focal_disk={camera.GetFocalDisk()}\")\n",
    "    print(f\"view_up={camera.up}\")\n",
    "    print(f\"direction={camera.direction}\")\n",
    "    # print(f\"window_center={camera.GetWindowCenter()}\")\n",
    "    return new_camera"
   ]
  },
  {
   "cell_type": "code",
   "execution_count": 15,
   "metadata": {
    "metadata": {}
   },
   "outputs": [
    {
     "name": "stdout",
     "output_type": "stream",
     "text": [
      "focal_point=(23.850000381469727, 31.5, 31.5)\n",
      "view_up=(0.0, -1.0, 0.0)\n",
      "direction=(-0.37969698854325434, 0.07604574012364314, 0.9219800661078477)\n"
     ]
    },
    {
     "data": {
      "image/png": "[encoded data removed]",
      "text/plain": [
       "<Figure size 640x480 with 1 Axes>"
      ]
     },
     "metadata": {},
     "output_type": "display_data"
    },
    {
     "data": {
      "image/png": "[encoded data removed]",
      "text/plain": [
       "<Figure size 640x480 with 1 Axes>"
      ]
     },
     "metadata": {},
     "output_type": "display_data"
    }
   ],
   "source": [
    "# Generate a new synthetic viewpoint and feed the camera parameters to the Gaussian renderer\n",
    "bg_color = [1, 1, 1]\n",
    "bg = torch.tensor(bg_color, dtype=torch.float32, device=\"cuda\")\n",
    "\n",
    "# Can change the image resolution to whatever you'd like, but 1080p is fast\n",
    "width = 1080\n",
    "height = 1080\n",
    "\n",
    "plotter = init_pv_plotter(ply_path, width, height)\n",
    "\n",
    "# Seeded random camera values, was supposed to help with debugging\n",
    "seed = 9\n",
    "\n",
    "viewpoint_cam = get_new_vtk_camera(plotter, seed)\n",
    "render_pkg = render(viewpoint_cam, gaussians, pipe, bg)\n",
    "gaussian_image = render_pkg[\"render\"]\n",
    "\n",
    "# Original Pyvista render (ground truth)\n",
    "plt.imshow(viewpoint_cam.original_image.cpu().detach().numpy().transpose(1, 2, 0))\n",
    "plt.axis(\"off\")\n",
    "plt.show()\n",
    "\n",
    "# Gaussian render (usually the model isn't in the scene)\n",
    "plt.imshow(gaussian_image.cpu().detach().numpy().transpose(1, 2, 0))\n",
    "plt.axis(\"off\")\n",
    "plt.show()"
   ]
  }
 ],
 "metadata": {
  "kernelspec": {
   "display_name": "gaussian_splatting",
   "language": "python",
   "name": "python3"
  },
  "language_info": {
   "codemirror_mode": {
    "name": "ipython",
    "version": 3
   },
   "file_extension": ".py",
   "mimetype": "text/x-python",
   "name": "python",
   "nbconvert_exporter": "python",
   "pygments_lexer": "ipython3",
   "version": "3.12.2"
  }
 },
 "nbformat": 4,
 "nbformat_minor": 2
}
